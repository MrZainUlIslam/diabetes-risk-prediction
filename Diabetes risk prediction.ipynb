{
 "cells": [
  {
   "cell_type": "markdown",
   "id": "5640638a-0eac-4465-b9c7-dafab41a5eb5",
   "metadata": {},
   "source": [
    "Step 1: Data Preprocessing "
   ]
  },
  {
   "cell_type": "code",
   "execution_count": 1,
   "id": "89c7e108-20e3-4fae-8aec-2425a2fda6c1",
   "metadata": {},
   "outputs": [
    {
     "name": "stdout",
     "output_type": "stream",
     "text": [
      "Dataset Shape: (768, 9)\n",
      "\n",
      "First 5 rows:\n",
      "   Pregnancies  Glucose  BloodPressure  SkinThickness  Insulin   BMI  \\\n",
      "0            6      148             72             35        0  33.6   \n",
      "1            1       85             66             29        0  26.6   \n",
      "2            8      183             64              0        0  23.3   \n",
      "3            1       89             66             23       94  28.1   \n",
      "4            0      137             40             35      168  43.1   \n",
      "\n",
      "   DiabetesPedigreeFunction  Age  Outcome  \n",
      "0                     0.627   50        1  \n",
      "1                     0.351   31        0  \n",
      "2                     0.672   32        1  \n",
      "3                     0.167   21        0  \n",
      "4                     2.288   33        1  \n",
      "\n",
      "Dataset Info:\n",
      "<class 'pandas.core.frame.DataFrame'>\n",
      "RangeIndex: 768 entries, 0 to 767\n",
      "Data columns (total 9 columns):\n",
      " #   Column                    Non-Null Count  Dtype  \n",
      "---  ------                    --------------  -----  \n",
      " 0   Pregnancies               768 non-null    int64  \n",
      " 1   Glucose                   768 non-null    int64  \n",
      " 2   BloodPressure             768 non-null    int64  \n",
      " 3   SkinThickness             768 non-null    int64  \n",
      " 4   Insulin                   768 non-null    int64  \n",
      " 5   BMI                       768 non-null    float64\n",
      " 6   DiabetesPedigreeFunction  768 non-null    float64\n",
      " 7   Age                       768 non-null    int64  \n",
      " 8   Outcome                   768 non-null    int64  \n",
      "dtypes: float64(2), int64(7)\n",
      "memory usage: 54.1 KB\n",
      "None\n",
      "\n",
      "Missing Values:\n",
      "Pregnancies                 0\n",
      "Glucose                     0\n",
      "BloodPressure               0\n",
      "SkinThickness               0\n",
      "Insulin                     0\n",
      "BMI                         0\n",
      "DiabetesPedigreeFunction    0\n",
      "Age                         0\n",
      "Outcome                     0\n",
      "dtype: int64\n",
      "\n",
      "Basic Statistics:\n",
      "       Pregnancies     Glucose  BloodPressure  SkinThickness     Insulin  \\\n",
      "count   768.000000  768.000000     768.000000     768.000000  768.000000   \n",
      "mean      3.845052  120.894531      69.105469      20.536458   79.799479   \n",
      "std       3.369578   31.972618      19.355807      15.952218  115.244002   \n",
      "min       0.000000    0.000000       0.000000       0.000000    0.000000   \n",
      "25%       1.000000   99.000000      62.000000       0.000000    0.000000   \n",
      "50%       3.000000  117.000000      72.000000      23.000000   30.500000   \n",
      "75%       6.000000  140.250000      80.000000      32.000000  127.250000   \n",
      "max      17.000000  199.000000     122.000000      99.000000  846.000000   \n",
      "\n",
      "              BMI  DiabetesPedigreeFunction         Age     Outcome  \n",
      "count  768.000000                768.000000  768.000000  768.000000  \n",
      "mean    31.992578                  0.471876   33.240885    0.348958  \n",
      "std      7.884160                  0.331329   11.760232    0.476951  \n",
      "min      0.000000                  0.078000   21.000000    0.000000  \n",
      "25%     27.300000                  0.243750   24.000000    0.000000  \n",
      "50%     32.000000                  0.372500   29.000000    0.000000  \n",
      "75%     36.600000                  0.626250   41.000000    1.000000  \n",
      "max     67.100000                  2.420000   81.000000    1.000000  \n"
     ]
    }
   ],
   "source": [
    "import pandas as pd\n",
    "import numpy as np\n",
    "from sklearn.model_selection import train_test_split\n",
    "from sklearn.preprocessing import StandardScaler\n",
    "from sklearn.impute import SimpleImputer\n",
    "from sklearn.ensemble import RandomForestClassifier\n",
    "from sklearn.metrics import classification_report, confusion_matrix, accuracy_score\n",
    "import matplotlib.pyplot as plt\n",
    "import seaborn as sns\n",
    "\n",
    "# Load the dataset\n",
    "df = pd.read_csv('D:\\\\Machine Learning Dataset\\\\diabetes.csv')\n",
    "\n",
    "# Display basic information about the dataset\n",
    "print(\"Dataset Shape:\", df.shape)\n",
    "print(\"\\nFirst 5 rows:\")\n",
    "print(df.head())\n",
    "print(\"\\nDataset Info:\")\n",
    "print(df.info())\n",
    "print(\"\\nMissing Values:\")\n",
    "print(df.isnull().sum())\n",
    "print(\"\\nBasic Statistics:\")\n",
    "print(df.describe())"
   ]
  },
  {
   "cell_type": "markdown",
   "id": "f073ae10-75a9-4dba-95db-799892747e03",
   "metadata": {},
   "source": [
    "Step 2: Data cleaning and Preprocessing"
   ]
  },
  {
   "cell_type": "code",
   "execution_count": 2,
   "id": "2ed6059d-4642-4626-9192-50879eae4b01",
   "metadata": {},
   "outputs": [
    {
     "name": "stdout",
     "output_type": "stream",
     "text": [
      "Zero values in each column:\n",
      "Pregnancies                 111\n",
      "Glucose                       5\n",
      "BloodPressure                35\n",
      "SkinThickness               227\n",
      "Insulin                     374\n",
      "BMI                          11\n",
      "DiabetesPedigreeFunction      0\n",
      "Age                           0\n",
      "Outcome                     500\n",
      "dtype: int64\n",
      "\n",
      "Missing values after zero replacement:\n",
      "Pregnancies                   0\n",
      "Glucose                       5\n",
      "BloodPressure                35\n",
      "SkinThickness               227\n",
      "Insulin                     374\n",
      "BMI                          11\n",
      "DiabetesPedigreeFunction      0\n",
      "Age                           0\n",
      "Outcome                       0\n",
      "dtype: int64\n",
      "\n",
      "Missing values after imputation:\n",
      "Pregnancies                 0\n",
      "Glucose                     0\n",
      "BloodPressure               0\n",
      "SkinThickness               0\n",
      "Insulin                     0\n",
      "BMI                         0\n",
      "DiabetesPedigreeFunction    0\n",
      "Age                         0\n",
      "Outcome                     0\n",
      "dtype: int64\n"
     ]
    }
   ],
   "source": [
    "# Check for zero values that might represent missing data\n",
    "# In medical datasets, zero values for certain features might be biologically impossible\n",
    "print(\"Zero values in each column:\")\n",
    "print((df == 0).sum())\n",
    "\n",
    "# Handle zero values in features where zero is not biologically plausible\n",
    "# For Glucose, BloodPressure, SkinThickness, Insulin, BMI - zero might indicate missing data\n",
    "columns_to_impute = ['Glucose', 'BloodPressure', 'SkinThickness', 'Insulin', 'BMI']\n",
    "\n",
    "# Replace zeros with NaN for these columns\n",
    "df[columns_to_impute] = df[columns_to_impute].replace(0, np.nan)\n",
    "\n",
    "# Check missing values after replacement\n",
    "print(\"\\nMissing values after zero replacement:\")\n",
    "print(df.isnull().sum())\n",
    "\n",
    "# Impute missing values using median\n",
    "imputer = SimpleImputer(strategy='median')\n",
    "df[columns_to_impute] = imputer.fit_transform(df[columns_to_impute])\n",
    "\n",
    "# Verify no more missing values\n",
    "print(\"\\nMissing values after imputation:\")\n",
    "print(df.isnull().sum())"
   ]
  },
  {
   "cell_type": "markdown",
   "id": "19cefe88-decc-455c-bc8a-37c0b03087e0",
   "metadata": {},
   "source": [
    "Step 3: Feature Engineering and Data Preparation"
   ]
  },
  {
   "cell_type": "code",
   "execution_count": 3,
   "id": "0d28c30a-93a9-40ea-8410-98a01c41d9d7",
   "metadata": {},
   "outputs": [
    {
     "name": "stdout",
     "output_type": "stream",
     "text": [
      "Training set size: (614, 8)\n",
      "Test set size: (154, 8)\n",
      "Class distribution in training set: [400 214]\n",
      "Class distribution in test set: [100  54]\n"
     ]
    }
   ],
   "source": [
    "# Separate features and target variable\n",
    "X = df.drop('Outcome', axis=1)\n",
    "y = df['Outcome']\n",
    "\n",
    "# Split the data into training and testing sets\n",
    "X_train, X_test, y_train, y_test = train_test_split(X, y, test_size=0.2, random_state=42, stratify=y)\n",
    "\n",
    "# Scale the features\n",
    "scaler = StandardScaler()\n",
    "X_train_scaled = scaler.fit_transform(X_train)\n",
    "X_test_scaled = scaler.transform(X_test)\n",
    "\n",
    "print(f\"Training set size: {X_train_scaled.shape}\")\n",
    "print(f\"Test set size: {X_test_scaled.shape}\")\n",
    "print(f\"Class distribution in training set: {np.bincount(y_train)}\")\n",
    "print(f\"Class distribution in test set: {np.bincount(y_test)}\")"
   ]
  },
  {
   "cell_type": "markdown",
   "id": "98a1df65-d69e-4981-be28-b76a321d2252",
   "metadata": {},
   "source": [
    "Step 4: Model Training"
   ]
  },
  {
   "cell_type": "code",
   "execution_count": 4,
   "id": "2ef8526f-68e4-4829-a05f-8ada795c1f06",
   "metadata": {},
   "outputs": [
    {
     "name": "stdout",
     "output_type": "stream",
     "text": [
      "Training Accuracy: 0.9495\n",
      "Test Accuracy: 0.7403\n"
     ]
    }
   ],
   "source": [
    "# Initialize and train the model\n",
    "model = RandomForestClassifier(\n",
    "    n_estimators=100,\n",
    "    max_depth=10,\n",
    "    min_samples_split=5,\n",
    "    min_samples_leaf=2,\n",
    "    random_state=42\n",
    ")\n",
    "\n",
    "# Train the model\n",
    "model.fit(X_train_scaled, y_train)\n",
    "\n",
    "# Make predictions on training set\n",
    "y_train_pred = model.predict(X_train_scaled)\n",
    "\n",
    "# Make predictions on test set\n",
    "y_test_pred = model.predict(X_test_scaled)\n",
    "\n",
    "# Calculate accuracy\n",
    "train_accuracy = accuracy_score(y_train, y_train_pred)\n",
    "test_accuracy = accuracy_score(y_test, y_test_pred)\n",
    "\n",
    "print(f\"Training Accuracy: {train_accuracy:.4f}\")\n",
    "print(f\"Test Accuracy: {test_accuracy:.4f}\")"
   ]
  },
  {
   "cell_type": "markdown",
   "id": "441c5fa5-a89e-49b9-a2b7-c39b28349fca",
   "metadata": {},
   "source": [
    "Step 5: Model Evaluation"
   ]
  },
  {
   "cell_type": "code",
   "execution_count": 5,
   "id": "24487739-db67-4f52-a99d-d75e671fbd24",
   "metadata": {},
   "outputs": [
    {
     "name": "stdout",
     "output_type": "stream",
     "text": [
      "\n",
      "=== Classification Report (Test Set) ===\n",
      "              precision    recall  f1-score   support\n",
      "\n",
      "           0       0.77      0.85      0.81       100\n",
      "           1       0.66      0.54      0.59        54\n",
      "\n",
      "    accuracy                           0.74       154\n",
      "   macro avg       0.72      0.69      0.70       154\n",
      "weighted avg       0.73      0.74      0.73       154\n",
      "\n",
      "\n",
      "=== Confusion Matrix (Test Set) ===\n",
      "[[85 15]\n",
      " [25 29]]\n"
     ]
    },
    {
     "data": {
      "image/png": "[encoded data removed]",
      "text/plain": [
       "<Figure size 800x600 with 2 Axes>"
      ]
     },
     "metadata": {},
     "output_type": "display_data"
    },
    {
     "name": "stdout",
     "output_type": "stream",
     "text": [
      "\n",
      "=== Feature Importance ===\n",
      "                    feature  importance\n",
      "1                   Glucose    0.316495\n",
      "5                       BMI    0.176100\n",
      "7                       Age    0.113591\n",
      "6  DiabetesPedigreeFunction    0.112421\n",
      "4                   Insulin    0.079405\n",
      "0               Pregnancies    0.071121\n",
      "2             BloodPressure    0.069533\n",
      "3             SkinThickness    0.061333\n"
     ]
    },
    {
     "data": {
      "image/png": "[encoded data removed]",
      "text/plain": [
       "<Figure size 1000x600 with 1 Axes>"
      ]
     },
     "metadata": {},
     "output_type": "display_data"
    }
   ],
   "source": [
    "# Detailed evaluation\n",
    "print(\"\\n=== Classification Report (Test Set) ===\")\n",
    "print(classification_report(y_test, y_test_pred))\n",
    "\n",
    "print(\"\\n=== Confusion Matrix (Test Set) ===\")\n",
    "cm = confusion_matrix(y_test, y_test_pred)\n",
    "print(cm)\n",
    "\n",
    "# Visualize confusion matrix\n",
    "plt.figure(figsize=(8, 6))\n",
    "sns.heatmap(cm, annot=True, fmt='d', cmap='Blues', \n",
    "            xticklabels=['No Diabetes', 'Diabetes'],\n",
    "            yticklabels=['No Diabetes', 'Diabetes'])\n",
    "plt.title('Confusion Matrix - Diabetes Prediction')\n",
    "plt.ylabel('Actual')\n",
    "plt.xlabel('Predicted')\n",
    "plt.show()\n",
    "\n",
    "# Feature importance\n",
    "feature_importance = pd.DataFrame({\n",
    "    'feature': X.columns,\n",
    "    'importance': model.feature_importances_\n",
    "}).sort_values('importance', ascending=False)\n",
    "\n",
    "print(\"\\n=== Feature Importance ===\")\n",
    "print(feature_importance)\n",
    "\n",
    "# Plot feature importance\n",
    "plt.figure(figsize=(10, 6))\n",
    "sns.barplot(data=feature_importance, x='importance', y='feature')\n",
    "plt.title('Feature Importance for Diabetes Prediction')\n",
    "plt.tight_layout()\n",
    "plt.show()"
   ]
  },
  {
   "cell_type": "markdown",
   "id": "5bfdf4c6-ca28-4cbf-85f2-61906ac45908",
   "metadata": {},
   "source": [
    "Step 6: Model Testing on New Patient Data"
   ]
  },
  {
   "cell_type": "code",
   "execution_count": 8,
   "id": "eb0fc0b8-df34-4588-9453-3e0204a859d9",
   "metadata": {},
   "outputs": [
    {
     "name": "stdout",
     "output_type": "stream",
     "text": [
      "=== Diabetes Risk Prediction for New Patients ===\n",
      "\n",
      "Patient 1:\n",
      "  Prediction: High Risk\n",
      "  Diabetes Probability: 0.8767 (87.67%)\n",
      "  Features: Glucose=180, BMI=35.5, Age=45\n",
      "\n",
      "Patient 2:\n",
      "  Prediction: Low Risk\n",
      "  Diabetes Probability: 0.0152 (1.52%)\n",
      "  Features: Glucose=90, BMI=24.0, Age=25\n",
      "\n",
      "Patient 3:\n",
      "  Prediction: High Risk\n",
      "  Diabetes Probability: 0.5387 (53.87%)\n",
      "  Features: Glucose=140, BMI=32.0, Age=35\n"
     ]
    }
   ],
   "source": [
    "def predict_diabetes_risk(new_patient_data, model, scaler, feature_names):\n",
    "    \"\"\"\n",
    "    Predict diabetes risk for new patient data\n",
    "    \n",
    "    Parameters:\n",
    "    - new_patient_data: List or array of patient features in order:\n",
    "      [Pregnancies, Glucose, BloodPressure, SkinThickness, Insulin, \n",
    "       BMI, DiabetesPedigreeFunction, Age]\n",
    "    - model: Trained machine learning model\n",
    "    - scaler: Fitted StandardScaler\n",
    "    - feature_names: List of feature names\n",
    "    \n",
    "    Returns:\n",
    "    - Prediction (0: No Diabetes, 1: Diabetes)\n",
    "    - Probability of diabetes\n",
    "    \"\"\"\n",
    "    \n",
    "    # Convert to DataFrame\n",
    "    new_df = pd.DataFrame([new_patient_data], columns=feature_names)\n",
    "    \n",
    "    # Scale the features\n",
    "    new_scaled = scaler.transform(new_df)\n",
    "    \n",
    "    # Make prediction\n",
    "    prediction = model.predict(new_scaled)[0]\n",
    "    probability = model.predict_proba(new_scaled)[0][1]\n",
    "    \n",
    "    return prediction, probability\n",
    "\n",
    "# Example: Test with new patient data\n",
    "feature_names = X.columns.tolist()\n",
    "\n",
    "# Example patient data\n",
    "new_patients = [\n",
    "    # Patient 1: High risk example\n",
    "    [2, 180, 85, 35, 200, 35.5, 0.8, 45],\n",
    "    # Patient 2: Low risk example  \n",
    "    [1, 90, 70, 25, 80, 24.0, 0.3, 25],\n",
    "    # Patient 3: Moderate risk\n",
    "    [3, 140, 80, 30, 150, 32.0, 0.5, 35]\n",
    "]\n",
    "\n",
    "print(\"=== Diabetes Risk Prediction for New Patients ===\")\n",
    "for i, patient in enumerate(new_patients, 1):\n",
    "    prediction, probability = predict_diabetes_risk(patient, model, scaler, feature_names)\n",
    "    risk_level = \"High Risk\" if prediction == 1 else \"Low Risk\"\n",
    "    \n",
    "    print(f\"\\nPatient {i}:\")\n",
    "    print(f\"  Prediction: {risk_level}\")\n",
    "    print(f\"  Diabetes Probability: {probability:.4f} ({probability*100:.2f}%)\")\n",
    "    print(f\"  Features: Glucose={patient[1]}, BMI={patient[5]}, Age={patient[7]}\")"
   ]
  },
  {
   "cell_type": "markdown",
   "id": "870dcb43-063e-4add-9120-89dd6a627452",
   "metadata": {},
   "source": [
    "Step 7: Complete Diabetes Prediction System"
   ]
  },
  {
   "cell_type": "code",
   "execution_count": 9,
   "id": "86f37107-8756-4882-9417-6ae38b2fc304",
   "metadata": {},
   "outputs": [
    {
     "name": "stdout",
     "output_type": "stream",
     "text": [
      "=== Diabetes Prediction System ===\n",
      "\n",
      "Patient 1 Result:\n",
      "  Risk Level: Diabetes Risk\n",
      "  Confidence: 0.8767\n",
      "\n",
      "Patient 2 Result:\n",
      "  Risk Level: No Diabetes Risk\n",
      "  Confidence: 0.0152\n",
      "\n",
      "Patient 3 Result:\n",
      "  Risk Level: Diabetes Risk\n",
      "  Confidence: 0.5387\n"
     ]
    }
   ],
   "source": [
    "class DiabetesPredictor:\n",
    "    def __init__(self, model, scaler, feature_names):\n",
    "        self.model = model\n",
    "        self.scaler = scaler\n",
    "        self.feature_names = feature_names\n",
    "    \n",
    "    def predict_single_patient(self, patient_data):\n",
    "        \"\"\"Predict for a single patient\"\"\"\n",
    "        prediction, probability = predict_diabetes_risk(\n",
    "            patient_data, self.model, self.scaler, self.feature_names\n",
    "        )\n",
    "        return {\n",
    "            'prediction': prediction,\n",
    "            'probability': probability,\n",
    "            'risk_level': 'Diabetes Risk' if prediction == 1 else 'No Diabetes Risk'\n",
    "        }\n",
    "    \n",
    "    def predict_multiple_patients(self, patients_data):\n",
    "        \"\"\"Predict for multiple patients\"\"\"\n",
    "        results = []\n",
    "        for patient in patients_data:\n",
    "            result = self.predict_single_patient(patient)\n",
    "            results.append(result)\n",
    "        return results\n",
    "\n",
    "# Initialize the predictor system\n",
    "diabetes_predictor = DiabetesPredictor(model, scaler, feature_names)\n",
    "\n",
    "# Test the system\n",
    "print(\"=== Diabetes Prediction System ===\")\n",
    "test_results = diabetes_predictor.predict_multiple_patients(new_patients)\n",
    "\n",
    "for i, result in enumerate(test_results, 1):\n",
    "    print(f\"\\nPatient {i} Result:\")\n",
    "    print(f\"  Risk Level: {result['risk_level']}\")\n",
    "    print(f\"  Confidence: {result['probability']:.4f}\")"
   ]
  },
  {
   "cell_type": "markdown",
   "id": "bceb8e89-3232-4618-86f6-dd737fdce21f",
   "metadata": {},
   "source": [
    "Step 8: Model Performance Summary"
   ]
  },
  {
   "cell_type": "code",
   "execution_count": 10,
   "id": "cde5c2d3-fcfe-4137-8f09-80eb84c323a7",
   "metadata": {},
   "outputs": [
    {
     "name": "stdout",
     "output_type": "stream",
     "text": [
      "=== Final Model Performance Summary ===\n",
      "Accuracy:  0.7403\n",
      "Precision: 0.6591\n",
      "Recall:    0.5370\n",
      "F1-Score:  0.5918\n",
      "ROC-AUC:   0.8085\n",
      "\n",
      "Model saved successfully for future use!\n"
     ]
    }
   ],
   "source": [
    "# Final performance summary\n",
    "from sklearn.metrics import precision_score, recall_score, f1_score, roc_auc_score\n",
    "\n",
    "# Calculate additional metrics\n",
    "precision = precision_score(y_test, y_test_pred)\n",
    "recall = recall_score(y_test, y_test_pred)\n",
    "f1 = f1_score(y_test, y_test_pred)\n",
    "roc_auc = roc_auc_score(y_test, model.predict_proba(X_test_scaled)[:, 1])\n",
    "\n",
    "print(\"=== Final Model Performance Summary ===\")\n",
    "print(f\"Accuracy:  {test_accuracy:.4f}\")\n",
    "print(f\"Precision: {precision:.4f}\")\n",
    "print(f\"Recall:    {recall:.4f}\")\n",
    "print(f\"F1-Score:  {f1:.4f}\")\n",
    "print(f\"ROC-AUC:   {roc_auc:.4f}\")\n",
    "\n",
    "# Save the model for future use\n",
    "import joblib\n",
    "\n",
    "# Save model and scaler\n",
    "joblib.dump(model, 'diabetes_model.pkl')\n",
    "joblib.dump(scaler, 'scaler.pkl')\n",
    "joblib.dump(feature_names, 'feature_names.pkl')\n",
    "\n",
    "print(\"\\nModel saved successfully for future use!\")"
   ]
  },
  {
   "cell_type": "code",
   "execution_count": null,
   "id": "0a901ac2-2c5b-444f-922e-d373b30a0b4f",
   "metadata": {},
   "outputs": [],
   "source": []
  }
 ],
 "metadata": {
  "kernelspec": {
   "display_name": "my_env",
   "language": "python",
   "name": "my_env"
  },
  "language_info": {
   "codemirror_mode": {
    "name": "ipython",
    "version": 3
   },
   "file_extension": ".py",
   "mimetype": "text/x-python",
   "name": "python",
   "nbconvert_exporter": "python",
   "pygments_lexer": "ipython3",
   "version": "3.13.2"
  }
 },
 "nbformat": 4,
 "nbformat_minor": 5
}
